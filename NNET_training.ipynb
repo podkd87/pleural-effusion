{
 "cells": [
  {
   "cell_type": "code",
   "execution_count": 1,
   "metadata": {},
   "outputs": [],
   "source": [
    "import numpy as np\n",
    "import pandas as pd\n",
    "import matplotlib.pyplot as plt\n",
    "from IPython.display import set_matplotlib_formats\n",
    "from astropy import modeling\n",
    "set_matplotlib_formats('retina')\n",
    "from matplotlib import font_manager, rc\n",
    "# font_name = font_manager.FontProperties(fname=\"c:/Windows/Fonts/malgun.ttf\").get_name()\n",
    "# rc('font', family=font_name)\n",
    "from sklearn.metrics import average_precision_score, precision_recall_curve\n",
    "from sklearn.metrics import roc_curve, auc, roc_auc_score\n",
    "from sklearn.model_selection import train_test_split\n",
    "\n",
    "import warnings\n",
    "warnings.filterwarnings(action='ignore')\n",
    "\n",
    "from sklearn.preprocessing import MinMaxScaler\n",
    "from inspect import signature\n",
    "import torch\n",
    "import torch.nn as nn\n",
    "import torchvision\n",
    "import torchvision.transforms as transforms\n",
    "import torch.nn.functional as F\n",
    "import torch.optim as optim\n",
    "\n",
    "from scipy import stats\n",
    "from torch.utils.data import  TensorDataset, DataLoader\n",
    "from torchvision.utils import save_image\n",
    "import os\n",
    "from os import listdir\n",
    "from os.path import isfile, join\n",
    "# [f for f in listdir('./model') if isfile(join(mypath, f))]\n",
    "\n",
    "import seaborn as sns\n",
    "\n",
    "pd.options.display.float_format = '{:.2f}'.format\n",
    "\n",
    "from sklearn.metrics import confusion_matrix, accuracy_score, classification_report, roc_auc_score\n",
    "from sklearn.metrics import balanced_accuracy_score, roc_curve"
   ]
  },
  {
   "cell_type": "code",
   "execution_count": 3,
   "metadata": {},
   "outputs": [],
   "source": [
    "# data=pd.read_csv(\"./data_1004.csv\")\n",
    "data=pd.read_csv(\"./data1201.csv\")\n",
    "# data=pd.read_csv(\"./data2100205.csv\")\n",
    "\n",
    "columns = data.iloc[:,2:-19].columns\n",
    "columns =columns.drop(['pleura_tb', 'pleura_bac','blood_positive', 'blood_obscure', 'cancer'])\n",
    "float_column=data[columns].select_dtypes(include=['float']).columns\n",
    "object_column = data[columns].select_dtypes(include=['object']).columns\n",
    "not_object = ['D-dimer', 'BNP', 'procalcitonin', 'ANA titer','ANA 1:40','ionized calcium','E-ANC_blood']\n",
    "\n",
    "data[not_object[0]] = data[not_object[0]].replace(\"\\<\",\"\",regex=True).replace(\"\\>\",\"\", regex=True).astype(float)\n",
    "data[not_object[1]] = data[not_object[1]].replace(\"\\<\",\"\",regex=True).replace(\"\\>\",\"\", regex=True).astype(float)\n",
    "data[not_object[2]] = data[not_object[2]].replace(\"\\<\",\"\",regex=True).replace(\"\\>\",\"\", regex=True).astype(float)\n",
    "data[not_object[5]] = data[not_object[5]].replace(\"\\<\",\"\",regex=True).replace(\"\\>\",\"\", regex=True).astype(float)\n",
    "\n",
    "def floating(x):\n",
    "    try:\n",
    "        value = float(x)\n",
    "    except ValueError :\n",
    "        value = np.nan\n",
    "    return value\n",
    "\n",
    "data[not_object[6]] = data[not_object[6]].replace(\"\\-\",\"\",regex=True).apply(floating).astype(float)\n",
    "data[not_object[4]] = data[not_object[4]].replace({np.nan:0, \n",
    "  'Neg(<1:40)':0,\n",
    "  'Non(<1:40)':0,\n",
    "  'Pos. Speckled':1,\n",
    "  'Reactive Speckled':2,\n",
    "  'Cytoplasmic':3,\n",
    "  'Reactive Nuclear membrane':4,\n",
    "  'Positive Speckled':5})\n",
    "\n",
    "data[not_object[3]] =  data[not_object[3]].replace({np.nan:0,\n",
    " '<1:40':0,\n",
    " 'Speckled 1:1280':1,\n",
    " 'Speckled 1:40':2,\n",
    " 'Nucleolar 1:80':3,\n",
    " 'Homogene.1:640':4,\n",
    " 'Mixed type(Remark)':5,\n",
    " 'Nucle.Membrane 1:80':6,\n",
    " 'Speckled 1:160':7,\n",
    " 'Homogene.1:40':8,\n",
    " 'Nucleolar 1:640':9,\n",
    " 'Homogene.1:160':10,\n",
    " 'Discr.speckled 1:1280':11,\n",
    " 'Nucleolar 1:40':12,\n",
    " 'Homogene.1:80':13,\n",
    " 'Homogene.1:1280':14,\n",
    " 'Speckled 1:320':15})\n",
    "\n",
    "data[['ANA1','ANA2','ANA3','ANA4','ANA5','ANA6','ANA7','ANA8','ANA9','ANA10','ANA11','ANA12','ANA13','ANA14',\n",
    "    'ANA15','ANA16']]=pd.DataFrame(np.eye(len(data[not_object[3]].unique()))[data[not_object[3]]])\n",
    "\n",
    "data[['ANA_1','ANA_2','ANA_3','ANA_4','ANA_5','ANA_6']]=pd.DataFrame(np.eye(len(data[not_object[4]].unique()))[data[not_object[4]]])\n",
    "\n",
    "reallist = float_column.tolist()+['D-dimer', 'BNP', 'procalcitonin','ionized calcium','E-ANC_blood']\n",
    "analist = ['ANA1','ANA2','ANA3','ANA4','ANA5','ANA6','ANA7','ANA8','ANA9','ANA10','ANA11','ANA12','ANA13','ANA14',\n",
    "    'ANA15','ANA16','ANA_1','ANA_2','ANA_3','ANA_4','ANA_5','ANA_6']\n",
    "\n",
    "count_label = pd.DataFrame(data.count()/len(data))\n",
    "\n",
    "data.loc[data['ph_pleural fluid'].isna(), 'ph_pleural fluid'] = data.loc[data['ph_pleural fluid'].isna(), 'pH_pleural fluid(Qn) ']\n",
    "\n",
    "list_04 = ['ADA_pleural fluid', 'LD_pleural fluid', 'albumin_pleural fluid', 'ph_pleural fluid', 'Total protein_pleural fluid', 'Glucose_pleural fluid',\n",
    "'Total amylase_pleural fluid', 'Creatinine', 'AST(SGOT)', 'Alkaline phosphatase', 'total bilirubin', 'glucose', 'Albumin', 'BUN',\n",
    "'Total protein', 'LD', 'ALT(SGPT)', 'r-GT', 'CRP', 'D-dimer', 'BNP', 'procalcitonin', 'total calcium', 'sodium', 'chloride', 'potassium', 'phosphorus', 'Hb_blood',\n",
    "'RDW_blood', 'WBC_blood', 'MCHC_blood', 'MCV_blood', 'PDW_blood', 'Hct_blood', 'E-ANC_blood', 'MCH_blood', 'RBC_blood', 'MPV_blood', 'Platelet_blood', \"Histiocyte (Qn)[Cytospin,Wright's stain],Pleural fluid\",\n",
    "\"Neutrophil (Qn)[Cytospin,Wright's stain],Pleural fluid\", \"RBC (Qn)[Cytospin,Wright's stain],Pleural fluid\", \"Eosinophil (Qn)[Cytospin,Wright's stain],Pleural fluid\",\n",
    "\"Nucleated cells (Qn)[Cytospin,Wright's stain],Pleural fluid\", \"Lymphocyte (Qn)[Cytospin,Wright's stain],Pleural fluid\", \"Mesothelial cell (Qn)[Cytospin,Wright's stain],Pleural fluid\"\n",
    "          ]\n",
    "\n",
    "xlist =dict()\n",
    "\n",
    "for i in range(len(list_04)):\n",
    "    xlist.update({data[list_04[i]].name: stats.mode(data[list_04[i]]).mode.item()})\n",
    "\n",
    "for i in range(len(list_04)):\n",
    "    data[list_04[i]] = data[list_04[i]].replace(np.nan, xlist[list_04[i]])\n",
    "\n",
    "data.loc[data['pleura_bac']>0,'Labeling']=3\n",
    "\n",
    "data.loc[((data['Labeling'].isin([3,17,\"3\",\"17\"]))& (data['제외']!=1)),'new_label']=\"bacterial\"\n",
    "data.loc[((data['Labeling'].isin([1,\"1\"]))& (data['제외']!=1)),'new_label']=\"tuberculosis\"\n",
    "data.loc[((data['Labeling'].isin([2,\"2\"]))& (data['제외']!=1)),'new_label']=\"malignancy\"\n",
    "data.loc[((data['Labeling'].isin([4,5,6,18,22,26,\"4\",\"5\",\"6\",\"18\",\"22\",\"26\"]))\n",
    "          & (data['제외']!=1)),'new_label']=\"volume\"\n",
    "data.loc[((data['Labeling'].isin([7,10,14,19,25,29,30,\"7\",\"10\",\"14\",\"19\",\"25\",\"29\",\"30\"]))\n",
    "          & (data['제외']!=1)),'new_label']=\"other\"\n",
    "data.loc[((data['Labeling'].isin([8,16,24,23,20,21,27,28,\"8\",\"16\",\"24\",\"23\",\"20\",\"21\",\"27\",\"28\"]))\n",
    "          & (data['제외']!=1)),'new_label']=\"other\"\n",
    "data.loc[((data['Labeling'].isin([9,15,\"9\",\"15\"]))& (data['제외']!=1))\n",
    "         ,'new_label']=\"other\"\n",
    "\n",
    "data.loc[((data['Labeling'].isin([3,17,\"3\",\"17\"]))& (data['제외']!=1)),'new_int']=0\n",
    "data.loc[((data['Labeling'].isin([1,\"1\"]))& (data['제외']!=1)),'new_int']=1\n",
    "data.loc[((data['Labeling'].isin([2,\"2\"]))& (data['제외']!=1)),'new_int']=2\n",
    "data.loc[((data['Labeling'].isin([4,5,6,18,22,26,\"4\",\"5\",\"6\",\"18\",\"22\",\"26\"]))\n",
    "          & (data['제외']!=1)),'new_int']=3\n",
    "data.loc[((data['Labeling'].isin([7,10,14,19,25,29,30,\"7\",\"10\",\"14\",\"19\",\"25\",\"29\",\"30\"]))\n",
    "          & (data['제외']!=1)),'new_int']=4\n",
    "data.loc[((data['Labeling'].isin([8,16,24,23,20,21,27,28,\"8\",\"16\",\"24\",\"23\",\"20\",\"21\",\"27\",\"28\"]))\n",
    "          & (data['제외']!=1)),'new_int']=4\n",
    "data.loc[((data['Labeling'].isin([9,15,\"9\",\"15\"]))& (data['제외']!=1))\n",
    "         ,'new_int']=4\n",
    "data.loc[((data['new_int'].isna())& (data['제외']!=1))\n",
    "         ,'new_int']=4\n",
    "\n",
    "data = data.loc[data['제외']!=1]\n",
    "\n",
    "training = data[list_04+['new_label']+['new_int']]\n",
    "training_only = training.loc[training['new_label'].isna()==False]\n",
    "col_name  = training.columns.difference([\"new_label\",'new_int'])\n",
    "\n",
    "# training[col_name]\n",
    "\n",
    "range_lower = 0.05\n",
    "range_upper = 0.95\n",
    "outcome_quantile = training[col_name].quantile([range_lower, range_upper])\n",
    "\n",
    "for i in col_name:\n",
    "    training.loc[(training[i]<=outcome_quantile[i][range_lower]),i]=\\\n",
    "        outcome_quantile[i][range_lower]\n",
    "\n",
    "    training.loc[(training[i]>=outcome_quantile[i][range_upper]),i]=\\\n",
    "        outcome_quantile[i][range_upper]\n",
    "\n",
    "label_name = data.loc[(data['new_label'].isna()==False)&\n",
    "                      (data['new_label']!=7), 'new_label'].unique()\n",
    "\n",
    "\n",
    "scaler01 = MinMaxScaler(feature_range=(0.01,1))\n",
    "scaler01 = scaler01.fit(training[col_name])\n",
    "training[col_name] = scaler01.transform(training[col_name])"
   ]
  },
  {
   "cell_type": "code",
   "execution_count": 4,
   "metadata": {},
   "outputs": [],
   "source": [
    "#label붙은것만 뽑기\n",
    "training = training.loc[training['new_label'].isna()==False]\n",
    "\n"
   ]
  },
  {
   "cell_type": "code",
   "execution_count": 5,
   "metadata": {},
   "outputs": [],
   "source": [
    "# Device configuration\n",
    "X_train, X_notrain, y_train, y_nottrain = train_test_split(training[col_name],\n",
    "                                                    training['new_int'], test_size = 0.3\n",
    "                                                    , random_state = 52\n",
    "                                                   )\n",
    "\n",
    "X_train = torch.tensor(np.array(X_train), dtype=torch.float32)\n",
    "y_train = torch.tensor(y_train.values.astype(int), dtype=torch.float32)\n",
    "X_notrain = torch.tensor(np.array(X_notrain), dtype=torch.float32)\n",
    "y_nottrain = torch.tensor(y_nottrain.values.astype(int), dtype=torch.float32)\n",
    "\n",
    "train_data = TensorDataset(X_train, y_train)\n",
    "total_val_data = TensorDataset(X_notrain, y_nottrain)\n"
   ]
  },
  {
   "cell_type": "markdown",
   "metadata": {},
   "source": [
    "### tensorboard example"
   ]
  },
  {
   "cell_type": "code",
   "execution_count": 6,
   "metadata": {},
   "outputs": [],
   "source": [
    "from torch.utils.tensorboard import SummaryWriter\n",
    "\n",
    "import tensorflow as tf\n",
    "import tensorboard as tb\n",
    "tf.io.gfile = tb.compat.tensorflow_stub.io.gfile"
   ]
  },
  {
   "cell_type": "code",
   "execution_count": 7,
   "metadata": {},
   "outputs": [],
   "source": [
    "history = []\n",
    "n_epochs_stop = 20\n",
    "PATH = './simple_model_0502/'\n",
    "epoch = 50000\n",
    "min_epoch =100\n",
    "small_layer_list = [[128,256,128,32,20],\n",
    "         [256,512,128,64,20],\n",
    "          [256,256,256,256,20],\n",
    "         [512,512,512,512,20],\n",
    "         [1024,1024,1024,20]]\n",
    "\n",
    "device = 'cuda:0'\n",
    "CEloss = nn.CrossEntropyLoss()\n"
   ]
  },
  {
   "cell_type": "code",
   "execution_count": 8,
   "metadata": {},
   "outputs": [],
   "source": [
    "from torch.utils.data import WeightedRandomSampler\n",
    "batch_size, val_batch_size = 450,223\n",
    "\n",
    "#weighted sampler \n",
    "# test-set의 proportion\n",
    "weight = 1/np.array([201, 123, 600, 100, 200])\n",
    "\n",
    "samples_weight = np.array([weight[t] for t in y_train.numpy().astype(int)])\n",
    "samples_weight = torch.from_numpy(samples_weight)\n",
    "samples_weight = samples_weight.double()\n",
    "train_sampler = WeightedRandomSampler(samples_weight, len(samples_weight))\n",
    "\n",
    "val_samples_weight = np.array([weight[t] for t in y_nottrain.numpy().astype(int)])\n",
    "val_samples_weight = torch.from_numpy(val_samples_weight)\n",
    "val_samples_weight = val_samples_weight.double()\n",
    "val_sampler = WeightedRandomSampler(val_samples_weight, len(val_samples_weight))\n",
    "\n",
    "train_loader = torch.utils.data.DataLoader(dataset=train_data, \n",
    "                                           batch_size=batch_size, \n",
    "                                           sampler = train_sampler)\n",
    "\n",
    "val_loader = torch.utils.data.DataLoader(dataset=total_val_data, \n",
    "                                           batch_size=val_batch_size, \n",
    "                                           sampler = val_sampler)\n"
   ]
  },
  {
   "cell_type": "code",
   "execution_count": 9,
   "metadata": {},
   "outputs": [],
   "source": [
    "class small_model(nn.Module):\n",
    "    def __init__(self, x_len, class_param, class_len):\n",
    "        super(small_model, self).__init__()\n",
    "              \n",
    "        self.classifier_layers = nn.ModuleList()\n",
    "\n",
    "        for i, param in enumerate(class_param):\n",
    "            if i==0:\n",
    "                self.classifier_layers.append(nn.Linear(x_len, param))\n",
    "                self.classifier_layers.append(nn.Dropout(0.3))\n",
    "                pre_param = param\n",
    "            elif i==len(class_param)-1:\n",
    "                self.classifier_layers.append(nn.Linear(pre_param, param))\n",
    "                self.classifier_layers.append(nn.Dropout(0.3))\n",
    "                self.classifier_layers.append(nn.Linear(param, class_len))        \n",
    "            else:\n",
    "                self.classifier_layers.append(nn.Linear(pre_param, param))\n",
    "                self.classifier_layers.append(nn.Dropout(0.3))\n",
    "                pre_param = param\n",
    "                \n",
    "\n",
    "    def classifier(self, train_x):\n",
    "        \n",
    "        for i, layer in enumerate(self.classifier_layers):\n",
    "            if i!=len(self.classifier_layers)-1:\n",
    "                if isinstance(layer, nn.Linear):\n",
    "                    train_x = nn.ReLU()(layer(train_x))\n",
    "\n",
    "                else:\n",
    "                    train_x = layer(train_x)\n",
    "            else:\n",
    "                last = layer(train_x)\n",
    "                \n",
    "        pre_last = train_x\n",
    "        last = last\n",
    "        return pre_last, last\n",
    "    \n",
    "    def forward(self, z):\n",
    "        # Encoder 를 통과\n",
    "\n",
    "        pre_last, last = self.classifier(z)\n",
    "        \n",
    "        return pre_last, last"
   ]
  },
  {
   "cell_type": "code",
   "execution_count": 98,
   "metadata": {},
   "outputs": [
    {
     "name": "stdout",
     "output_type": "stream",
     "text": [
      "[128-256-5] 200/50000 epoch\tLoss =  1.596346 \t val_loss = 1.569883\t min_val_loss =1.569883\n",
      "Early stopping! epoch:299, min_val_loss:1.48679\n",
      "[256-512-5] 200/50000 epoch\tLoss =  1.421987 \t val_loss = 1.423862\t min_val_loss =1.415696\n",
      "[256-512-5] 400/50000 epoch\tLoss =  1.090578 \t val_loss = 1.018868\t min_val_loss =0.956142\n",
      "Early stopping! epoch:429, min_val_loss:0.91668\n",
      "[256-256-5] 200/50000 epoch\tLoss =  1.337153 \t val_loss = 1.321923\t min_val_loss =1.321923\n",
      "Early stopping! epoch:365, min_val_loss:0.90899\n",
      "[512-512-5] 200/50000 epoch\tLoss =  1.194674 \t val_loss = 1.087678\t min_val_loss =1.081026\n",
      "Early stopping! epoch:364, min_val_loss:0.66373\n",
      "[1024-1024-4] 200/50000 epoch\tLoss =  0.755856 \t val_loss = 0.723837\t min_val_loss =0.670421\n",
      "Early stopping! epoch:218, min_val_loss:0.67042\n"
     ]
    }
   ],
   "source": [
    "for layer in small_layer_list:\n",
    "    model = small_model(x_len=46, class_param=layer, class_len=5)\n",
    "    model = model.to(device)\n",
    "    optimizer = optim.Adam(model.parameters(), weight_decay = 1e-5, lr=0.00002)\n",
    "    min_val_loss = np.Inf\n",
    "    epochs_no_improve = 20\n",
    "#         print(\"first\",torch.cuda.memory_allocated())\n",
    "    for num_epoch in range(epoch):\n",
    "        average_loss = 0\n",
    "        #training\n",
    "        model = model.train()\n",
    "\n",
    "        for batch_idx, (train_X,train_Y) in enumerate(train_loader):\n",
    "            optimizer.zero_grad()\n",
    "            train_X = train_X.to(device)\n",
    "            train_Y = torch.tensor(train_Y, dtype= torch.long).to(device)\n",
    "\n",
    "            pre_last, last = model(train_X)\n",
    "#                 print(\"second\",torch.cuda.memory_allocated())\n",
    "            loss = CEloss(last, train_Y)\n",
    "            loss.backward()\n",
    "#                 print(\"third\",torch.cuda.memory_allocated())\n",
    "            optimizer.step()\n",
    "\n",
    "            average_loss += loss.item()\n",
    "\n",
    "#             print(\"after train end: \",torch.cuda.memory_allocated())\n",
    "\n",
    "        average_loss /=len(train_loader)\n",
    "\n",
    "        #validation set \n",
    "        aver_val_loss = 0\n",
    "        model = model.eval()\n",
    "\n",
    "        for val_X,val_Y in val_loader:\n",
    "            val_X = val_X.to(device)\n",
    "            val_Y = torch.tensor(val_Y, dtype= torch.long).to(device)\n",
    "\n",
    "            val_prelast, val_last = model(val_X)\n",
    "            loss_val = CEloss(val_last, val_Y)\n",
    "\n",
    "            aver_val_loss += loss_val.item()\n",
    "        aver_val_loss /=len(val_loader)\n",
    "\n",
    "        if aver_val_loss <= min_val_loss:\n",
    "            directory = PATH\n",
    "            #directory 이름은 layer 첫번째 및 두번째 그리고 마지막 layer수 \n",
    "            if not os.path.exists(directory):\n",
    "                os.makedirs(directory)\n",
    "            filename = [f for f in os.listdir(directory) if f.startswith(\"model_{}\".format(layer))]\n",
    "            if filename:\n",
    "                if os.path.isfile(directory+filename[0]):\n",
    "                    os.remove(directory+filename[0])\n",
    "            torch.save(model, directory+'model_{}_{:.0f}.pt'.format(layer,aver_val_loss*1000))\n",
    "            epochs_no_improve = 0\n",
    "            min_val_loss = aver_val_loss\n",
    "        else:\n",
    "            epochs_no_improve += 1\n",
    "\n",
    "        if (num_epoch+1) % 200 == 0:\n",
    "            print('[{}-{}-{}] {}/{} epoch\\tLoss = {: .6f} \\t val_loss = {:.6f}\\t min_val_loss ={:.6f}'\\\n",
    "                  .format(layer[0], layer[1], len(layer), num_epoch+1, epoch,  average_loss, aver_val_loss, min_val_loss))\n",
    "\n",
    "        # If the validation loss is at a minimum\n",
    "        if num_epoch > min_epoch and epochs_no_improve > n_epochs_stop:\n",
    "            print('Early stopping! epoch:{}, min_val_loss:{:.5f}'.format(num_epoch, min_val_loss) )\n",
    "            early_stop = True\n",
    "            break\n",
    "        else:\n",
    "            continue\n",
    "\n",
    "    history.append({\n",
    "    'layer': layer,\n",
    "    'average_loss': average_loss,\n",
    "    'aver_val_loss': aver_val_loss})   "
   ]
  },
  {
   "cell_type": "markdown",
   "metadata": {},
   "source": [
    "### 작은 model validation"
   ]
  },
  {
   "cell_type": "code",
   "execution_count": 99,
   "metadata": {},
   "outputs": [
    {
     "data": {
      "text/plain": [
       "['model_[256, 512, 128, 64, 20]_917.pt',\n",
       " 'model_[128, 256, 128, 32, 20]_1487.pt',\n",
       " 'model_[256, 256, 256, 256, 20]_909.pt',\n",
       " 'model_[512, 512, 512, 512, 20]_664.pt',\n",
       " 'model_[1024, 1024, 1024, 20]_670.pt']"
      ]
     },
     "execution_count": 99,
     "metadata": {},
     "output_type": "execute_result"
    }
   ],
   "source": [
    "os.listdir(\"./simple_model_0502/\")"
   ]
  },
  {
   "cell_type": "code",
   "execution_count": 100,
   "metadata": {},
   "outputs": [],
   "source": [
    "model = torch.load('./simple_model_0502/model_[1024, 1024, 1024, 20]_670.pt')\n",
    "model = model.eval()\n",
    "pre_last, p_label = model(X_notrain.to(device))\n",
    "predict = torch.argmax(p_label, axis=1)"
   ]
  },
  {
   "cell_type": "code",
   "execution_count": 108,
   "metadata": {},
   "outputs": [
    {
     "data": {
      "text/plain": [
       "tensor([[0.0951, 0.1166, 0.2114,  ..., 0.6954, 0.0807, 0.5950],\n",
       "        [0.2409, 0.4060, 0.6980,  ..., 0.9238, 1.0000, 0.0100],\n",
       "        [0.0639, 0.0709, 0.0939,  ..., 0.7715, 0.1514, 0.5500],\n",
       "        ...,\n",
       "        [0.0420, 0.4974, 1.0000,  ..., 0.4669, 1.0000, 0.0100],\n",
       "        [0.0951, 0.1014, 0.0771,  ..., 0.7715, 0.2929, 0.5500],\n",
       "        [0.0951, 0.3298, 0.2449,  ..., 0.8477, 0.1514, 0.7750]])"
      ]
     },
     "execution_count": 108,
     "metadata": {},
     "output_type": "execute_result"
    }
   ],
   "source": [
    "X_train"
   ]
  },
  {
   "cell_type": "code",
   "execution_count": 101,
   "metadata": {},
   "outputs": [
    {
     "name": "stdout",
     "output_type": "stream",
     "text": [
      "[[ 49   7   7   5   0]\n",
      " [  2  27   4   2   0]\n",
      " [ 15  10 217   8   0]\n",
      " [  0   0   4  28   0]\n",
      " [  5   5   6   3   0]]\n",
      "0.7945544554455446\n",
      "              precision    recall  f1-score   support\n",
      "\n",
      "         0.0       0.69      0.72      0.71        68\n",
      "         1.0       0.55      0.77      0.64        35\n",
      "         2.0       0.91      0.87      0.89       250\n",
      "         3.0       0.61      0.88      0.72        32\n",
      "         4.0       0.00      0.00      0.00        19\n",
      "\n",
      "    accuracy                           0.79       404\n",
      "   macro avg       0.55      0.65      0.59       404\n",
      "weighted avg       0.78      0.79      0.78       404\n",
      "\n"
     ]
    }
   ],
   "source": [
    "# confusion_matrix(y_train, predict.cpu()),\n",
    "print(confusion_matrix(y_nottrain, predict.cpu()))\n",
    "\n",
    "#accuracy\n",
    "print(accuracy_score(y_nottrain, predict.cpu()))\n",
    "#classification report\n",
    "print(classification_report(y_nottrain, predict.cpu()))"
   ]
  },
  {
   "cell_type": "code",
   "execution_count": 102,
   "metadata": {},
   "outputs": [
    {
     "name": "stdout",
     "output_type": "stream",
     "text": [
      "top1 accuracy: 79.4554443359375\n",
      "top2 accuracy: 90.09900665283203\n"
     ]
    }
   ],
   "source": [
    "from util import accuracy\n",
    "acc1,acc2= accuracy(p_label.cpu(), y_nottrain, topk=(1, 2))\n",
    "print(\"top1 accuracy:\", acc1.item())\n",
    "print(\"top2 accuracy:\", acc2.item())"
   ]
  },
  {
   "cell_type": "code",
   "execution_count": 103,
   "metadata": {},
   "outputs": [
    {
     "name": "stdout",
     "output_type": "stream",
     "text": [
      "weighted, ovr 0.9203032630100709\n",
      "macro, ovr  0.885386684192347\n",
      "micro, ovr 0.9441476325850406\n"
     ]
    }
   ],
   "source": [
    "Y_val = torch.tensor(y_nottrain, dtype=torch.long)\n",
    "\n",
    "one_hot_y = nn.functional.one_hot(Y_val)\n",
    "\n",
    "soft = nn.Softmax(dim=1)\n",
    "soft(p_label)\n",
    "soft_x_predict = soft(p_label).cpu().detach().numpy()\n",
    "\n",
    "print(\"weighted, ovr\", roc_auc_score(one_hot_y, soft(p_label).cpu().detach().numpy(),  multi_class= 'ovr', average = 'weighted'))\n",
    "print(\"macro, ovr \", roc_auc_score(one_hot_y, soft(p_label).cpu().detach().numpy(),  multi_class= 'ovr', average = 'macro'))\n",
    "print(\"micro, ovr\" , roc_auc_score(one_hot_y, soft(p_label).cpu().detach().numpy(),  multi_class= 'ovr', average = 'micro'))"
   ]
  },
  {
   "cell_type": "code",
   "execution_count": 18,
   "metadata": {},
   "outputs": [],
   "source": [
    "fpr = dict()\n",
    "tpr = dict()\n",
    "roc_auc = dict()\n",
    "for i in range(one_hot_y.shape[1]):\n",
    "    fpr[i], tpr[i], _ = roc_curve(one_hot_y[:,i], soft_x_predict[:,i])\n",
    "    roc_auc[i] = auc(fpr[i], tpr[i])\n",
    "\n"
   ]
  },
  {
   "cell_type": "code",
   "execution_count": 19,
   "metadata": {},
   "outputs": [],
   "source": [
    "label_name = ['bacterial', 'tuberculosis','malignancy', 'volume', 'other']"
   ]
  },
  {
   "cell_type": "code",
   "execution_count": 21,
   "metadata": {},
   "outputs": [
    {
     "data": {
      "image/png": "[encoded data removed]",
      "text/plain": [
       "<Figure size 576x648 with 1 Axes>"
      ]
     },
     "metadata": {
      "needs_background": "light"
     },
     "output_type": "display_data"
    }
   ],
   "source": [
    "from itertools import cycle\n",
    "import matplotlib.pyplot as plt\n",
    "lw = 2\n",
    "\n",
    "fig, ax = plt.subplots(figsize=(8,9))\n",
    "for i in range(one_hot_y.shape[1]):\n",
    "    ax.plot(fpr[i], tpr[i],\n",
    "        #      color=color,\n",
    "             lw=lw,\n",
    "             label=' {0} (AUROC = {1:0.2f})'\n",
    "             ''.format(label_name[i], roc_auc[i]))\n",
    "\n",
    "ax.plot([0, 1], [0, 1], 'k--', lw=lw)\n",
    "ax.set_xlim([0.0, 1.0])\n",
    "ax.set_ylim([0.0, 1.05])\n",
    "ax.set_xlabel('1-specificity', fontsize= 13)\n",
    "ax.set_ylabel('Sensitivity', fontsize= 13)\n",
    "ax.set_title('AUROC of DNN in validation set', fontsize= 14)\n",
    "ax.legend(loc=\"lower right\", fontsize=12)\n",
    "plt.show()\n",
    "fig.savefig(\"./figures/val_DNN four 300.png\", dpi=300)"
   ]
  }
 ],
 "metadata": {
  "kernelspec": {
   "display_name": "park",
   "language": "python",
   "name": "park"
  },
  "language_info": {
   "codemirror_mode": {
    "name": "ipython",
    "version": 3
   },
   "file_extension": ".py",
   "mimetype": "text/x-python",
   "name": "python",
   "nbconvert_exporter": "python",
   "pygments_lexer": "ipython3",
   "version": "3.7.4"
  }
 },
 "nbformat": 4,
 "nbformat_minor": 4
}
